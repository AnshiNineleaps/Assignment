{
 "cells": [
  {
   "cell_type": "code",
   "execution_count": 1,
   "id": "8b6bb64a-81fc-4ae8-9dd1-b55f3d4b84d8",
   "metadata": {},
   "outputs": [],
   "source": [
    "import pandas as pd"
   ]
  },
  {
   "cell_type": "code",
   "execution_count": 3,
   "id": "203200a8-4181-406c-9680-090a0a32691e",
   "metadata": {},
   "outputs": [],
   "source": [
    "url = \"https://raw.githubusercontent.com/asarfraaz/Litmus/refs/heads/main/data/sales_24.csv\""
   ]
  },
  {
   "cell_type": "code",
   "execution_count": 5,
   "id": "ae11eb42-dc38-45f0-af6c-a9167a5e4e91",
   "metadata": {},
   "outputs": [],
   "source": [
    "df = pd.read_csv(url)"
   ]
  },
  {
   "cell_type": "code",
   "execution_count": 7,
   "id": "2cbfc9f2-edf6-4abf-ad79-4a4e046b1024",
   "metadata": {},
   "outputs": [],
   "source": [
    "df.to_csv(\"sales_24.csv\", index=False)"
   ]
  },
  {
   "cell_type": "code",
   "execution_count": 9,
   "id": "c6d5be94-6451-4a09-bfea-dde688599783",
   "metadata": {},
   "outputs": [],
   "source": [
    "import csv\n"
   ]
  },
  {
   "cell_type": "code",
   "execution_count": 10,
   "id": "e3e27e0c-2828-4c5f-84ff-f075e25be63b",
   "metadata": {},
   "outputs": [],
   "source": [
    "path = \"sales_24.csv\"\n",
    "df = pd.read_csv(path)"
   ]
  },
  {
   "cell_type": "code",
   "execution_count": 27,
   "id": "a6bb7be1-fbb5-40d1-90c7-bfb65323ac40",
   "metadata": {},
   "outputs": [],
   "source": [
    "import math"
   ]
  },
  {
   "cell_type": "code",
   "execution_count": 28,
   "id": "5560a5ca-0b0f-489a-85f4-aa0c1d8e736c",
   "metadata": {},
   "outputs": [
    {
     "name": "stdout",
     "output_type": "stream",
     "text": [
      "Data saved to 'sales_updated.csv'.\n"
     ]
    }
   ],
   "source": [
    "with open('sales_24.csv', 'r') as infile, open('sales_updated.csv', 'w', newline='') as outfile:\n",
    "    reader = csv.reader(infile)\n",
    "    writer = csv.writer(outfile)\n",
    "    header = next(reader)  \n",
    "    writer.writerow(header)  \n",
    "    for row in reader:\n",
    "        if row[2]:\n",
    "            try:\n",
    "                row[2] = str(math.floor(float(row[2])))\n",
    "            except ValueError:\n",
    "                pass  \n",
    "        writer.writerow(row)  \n",
    "print(\"Data saved to 'sales_updated.csv'.\")"
   ]
  },
  {
   "cell_type": "code",
   "execution_count": 29,
   "id": "ded6d98e-3769-4b64-bf0b-6ce59518ad0f",
   "metadata": {},
   "outputs": [
    {
     "data": {
      "text/plain": [
       "0     1000.10\n",
       "1     1200.34\n",
       "2     1500.05\n",
       "3     2000.23\n",
       "4         NaN\n",
       "5     1800.50\n",
       "6         NaN\n",
       "7     2500.31\n",
       "8     1500.74\n",
       "9     1500.54\n",
       "10    3000.68\n",
       "11    2000.29\n",
       "Name: Amount, dtype: float64"
      ]
     },
     "execution_count": 29,
     "metadata": {},
     "output_type": "execute_result"
    }
   ],
   "source": [
    "df.Amount"
   ]
  },
  {
   "cell_type": "code",
   "execution_count": null,
   "id": "7868c188-49f0-4f14-94e1-b4d5b52259f2",
   "metadata": {},
   "outputs": [],
   "source": []
  }
 ],
 "metadata": {
  "kernelspec": {
   "display_name": "Python 3 (ipykernel)",
   "language": "python",
   "name": "python3"
  },
  "language_info": {
   "codemirror_mode": {
    "name": "ipython",
    "version": 3
   },
   "file_extension": ".py",
   "mimetype": "text/x-python",
   "name": "python",
   "nbconvert_exporter": "python",
   "pygments_lexer": "ipython3",
   "version": "3.10.12"
  }
 },
 "nbformat": 4,
 "nbformat_minor": 5
}
